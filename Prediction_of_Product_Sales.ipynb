{
  "nbformat": 4,
  "nbformat_minor": 0,
  "metadata": {
    "colab": {
      "provenance": [],
      "authorship_tag": "ABX9TyPTYOPn9KrAk3USJsZ/9XKl",
      "include_colab_link": true
    },
    "kernelspec": {
      "name": "python3",
      "display_name": "Python 3"
    },
    "language_info": {
      "name": "python"
    }
  },
  "cells": [
    {
      "cell_type": "markdown",
      "metadata": {
        "id": "view-in-github",
        "colab_type": "text"
      },
      "source": [
        "<a href=\"https://colab.research.google.com/github/aminemag/Prediction-of-Product-Sales/blob/main/Prediction_of_Product_Sales.ipynb\" target=\"_parent\"><img src=\"https://colab.research.google.com/assets/colab-badge.svg\" alt=\"Open In Colab\"/></a>"
      ]
    },
    {
      "cell_type": "markdown",
      "source": [
        "# Prediction of Product Sales"
      ],
      "metadata": {
        "id": "Op9Q4rsJF81x"
      }
    },
    {
      "cell_type": "markdown",
      "source": [
        "- Guetat Mouhamed Amine"
      ],
      "metadata": {
        "id": "FDDlaxaXGFQw"
      }
    },
    {
      "cell_type": "markdown",
      "source": [
        "## Project Overview"
      ],
      "metadata": {
        "id": "Rev0IEGiGjke"
      }
    },
    {
      "cell_type": "code",
      "source": [],
      "metadata": {
        "id": "VS1wzcZRHJvT"
      },
      "execution_count": null,
      "outputs": []
    },
    {
      "cell_type": "markdown",
      "source": [
        "## Load and Inspect Data"
      ],
      "metadata": {
        "id": "dmGyA1Y0GqYD"
      }
    },
    {
      "cell_type": "code",
      "source": [],
      "metadata": {
        "id": "GiSeEu_THLSK"
      },
      "execution_count": null,
      "outputs": []
    },
    {
      "cell_type": "markdown",
      "source": [
        "## Clean Data"
      ],
      "metadata": {
        "id": "Mqw5YYGeGvkZ"
      }
    },
    {
      "cell_type": "code",
      "source": [],
      "metadata": {
        "id": "VzzVx4buHMK7"
      },
      "execution_count": null,
      "outputs": []
    },
    {
      "cell_type": "markdown",
      "source": [
        "## Exploratory Data Analysis"
      ],
      "metadata": {
        "id": "Y_icfPN6G0ee"
      }
    },
    {
      "cell_type": "code",
      "source": [],
      "metadata": {
        "id": "tSAU4ri1HO7t"
      },
      "execution_count": null,
      "outputs": []
    },
    {
      "cell_type": "markdown",
      "source": [
        "## Feature Inspection"
      ],
      "metadata": {
        "id": "p3DKdRKIG425"
      }
    },
    {
      "cell_type": "code",
      "source": [],
      "metadata": {
        "id": "t3houbrIHPwk"
      },
      "execution_count": null,
      "outputs": []
    }
  ]
}